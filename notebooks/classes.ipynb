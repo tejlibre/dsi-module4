{
 "cells": [
  {
   "cell_type": "code",
   "execution_count": 1,
   "metadata": {
    "id": "L1WtoaOHVrVh",
    "tags": []
   },
   "outputs": [],
   "source": [
    "import matplotlib.pyplot as plt\n",
    "import numpy as np\n",
    "import pandas as pd\n",
    "import os\n",
    "import PIL"
   ]
  },
  {
   "cell_type": "markdown",
   "metadata": {
    "id": "UZZI6lNkVrVm"
   },
   "source": [
    "## Download and explore the dataset"
   ]
  },
  {
   "cell_type": "code",
   "execution_count": 2,
   "metadata": {},
   "outputs": [],
   "source": [
    "csv_combine = pd.read_csv(\"../../data/Csv/train.csv\")\n",
    "csv_test = pd.read_csv(\"../../data/Csv/test.csv\") \n",
    "image_dim = 418"
   ]
  },
  {
   "cell_type": "code",
   "execution_count": 3,
   "metadata": {},
   "outputs": [],
   "source": [
    "class_id = {}\n",
    "for i,cl in enumerate(csv_combine.class_id.unique()):\n",
    "    class_id[cl] = i\n",
    "nclass = i+1 "
   ]
  },
  {
   "cell_type": "code",
   "execution_count": 4,
   "metadata": {},
   "outputs": [],
   "source": [
    "csv_train = csv_combine\n",
    "train_size = len(csv_train)\n",
    "test_size = len(csv_test)"
   ]
  },
  {
   "cell_type": "code",
   "execution_count": 5,
   "metadata": {},
   "outputs": [
    {
     "name": "stdout",
     "output_type": "stream",
     "text": [
      "Species                       class_id  No Of Images\n",
      "binomial                      class_id\n",
      "Agkistrodon contortrix        18          180\n",
      "Agkistrodon piscivorus        20          200\n",
      "Ahaetulla nasuta              25          199\n",
      "Ahaetulla prasina             26          200\n",
      "Arizona elegans               39          181\n",
      "Aspidites melanocephalus      41          154\n",
      "Atractus crassicaudatus       48          187\n",
      "Austrelaps superbus           52          201\n",
      "Bitis arietans                54          183\n",
      "Bitis gabonica                57          186\n",
      "Boa constrictor               60          121\n",
      "Bogertophis subocularis       65          197\n",
      "Boiga irregularis             71          196\n",
      "Boiga kraepelini              73          201\n",
      "Bothriechis schlegelii        83          208\n",
      "Bothrops asper                87          202\n",
      "Bothrops atrox                88          184\n",
      "Bungarus multicinctus         99          168\n",
      "Carphophis amoenus            110         175\n",
      "Carphophis vermis             111         197\n",
      "Causus rhombeatus             113         193\n",
      "Cemophora coccinea            114         188\n",
      "Charina bottae                122         190\n",
      "Chrysopelea ornata            135         183\n",
      "Clonophis kirtlandii          140         175\n",
      "Contia tenuis                 155         193\n",
      "Corallus caninus              158         190\n",
      "Corallus hortulanus           159         186\n",
      "Coronella girondica           162         184\n",
      "Crotalus adamanteus           163         173\n",
      "Crotalus atrox                165         183\n",
      "Crotalus cerastes             168         186\n",
      "Crotalus cerberus             169         177\n",
      "Crotalus lepidus              175         187\n",
      "Crotalus molossus             177         177\n",
      "Crotalus ornatus              180         179\n",
      "Crotalus ruber                185         176\n",
      "Crotalus scutulatus           186         184\n",
      "Crotalus stephensi            188         189\n",
      "Crotalus tigris               189         198\n",
      "Crotalus triseriatus          191         189\n",
      "Crotalus viridis              193         178\n",
      "Crotaphopeltis hotamboeia     195         183\n",
      "Daboia russelii               203         165\n",
      "Dendrelaphis pictus           215         183\n",
      "Dendrelaphis punctulatus      216         184\n",
      "Dendroaspis polylepis         220         122\n",
      "Diadophis punctatus           226         188\n",
      "Drymarchon couperi            238         175\n",
      "Elaphe dione                  255         161\n",
      "Epicrates cenchria            263         184\n",
      "Eunectes murinus              280         146\n",
      "Farancia abacura              284         127\n",
      "Gonyosoma oxycephalum         302         181\n",
      "Hemorrhois hippocrepis        315         154\n",
      "Heterodon nasicus             319         167\n",
      "Heterodon simus               321         188\n",
      "Hierophis viridiflavus        323         158\n",
      "Hypsiglena torquata           335         172\n",
      "Imantodes cenchoa             338         200\n",
      "Lampropeltis alterna          345         190\n",
      "Lampropeltis calligaster      348         170\n",
      "Lampropeltis getula           352         180\n",
      "Lampropeltis pyromelana       360         190\n",
      "Lampropeltis triangulum       363         190\n",
      "Lampropeltis zonata           364         189\n",
      "Laticauda colubrina           368         186\n",
      "Leptodeira annulata           373         186\n",
      "Leptophis ahaetulla           381         173\n",
      "Leptophis diplotropis         383         192\n",
      "Leptophis mexicanus           384         178\n",
      "Lycodon capucinus             396         171\n",
      "Malpolon monspessulanus       422         171\n",
      "Masticophis bilineatus        424         161\n",
      "Masticophis lateralis         427         176\n",
      "Masticophis schotti           429         158\n",
      "Masticophis taeniatus         430         152\n",
      "Micrurus fulvius              441         178\n",
      "Micrurus tener                448         161\n",
      "Morelia spilota               453         193\n",
      "Morelia viridis               454         157\n",
      "Naja atra                     457         180\n",
      "Naja naja                     462         152\n",
      "Naja nivea                    464         159\n",
      "Natrix maura                  470         192\n",
      "Nerodia cyclopion             474         172\n",
      "Nerodia floridana             477         156\n",
      "Nerodia taxispilota           481         157\n",
      "Ninia sebae                   485         188\n",
      "Opheodrys aestivus            495         172\n",
      "Ophiophagus hannah            497         179\n",
      "Oxybelis aeneus               507         170\n",
      "Oxyuranus scutellatus         515         178\n",
      "Phyllorhynchus decurtatus     544         176\n",
      "Pituophis catenifer           545         177\n",
      "Pituophis deppei              546         183\n",
      "Protobothrops mucrosquamatus  560         185\n",
      "Psammodynastes pulverulentus  562         188\n",
      "Pseudaspis cana               575         158\n",
      "Pseudechis australis          576         190\n",
      "Pseudechis porphyriacus       578         158\n",
      "Pseudonaja textilis           590         177\n",
      "Python molurus                603         168\n",
      "Python regius                 605         169\n",
      "Regina septemvittata          609         177\n",
      "Rhabdophis subminiatus        616         167\n",
      "Rhabdophis tigrinus           617         160\n",
      "Rhadinaea flavilata           619         180\n",
      "Rhinocheilus lecontei         623         174\n",
      "Salvadora grahamiae           628         165\n",
      "Salvadora hexalepis           629         161\n",
      "Senticolis triaspis           634         182\n",
      "Sistrurus catenatus           651         163\n",
      "Sistrurus miliarius           652         179\n",
      "Spilotes pullatus             656         164\n",
      "Tantilla coronata             672         197\n",
      "Tantilla gracilis             674         193\n",
      "Tantilla hobartsmithi         675         175\n",
      "Tantilla planiceps            678         181\n",
      "Thamnophis atratus            686         175\n",
      "Thamnophis couchii            690         171\n",
      "Thamnophis cyrtopsis          691         177\n",
      "Thamnophis marcianus          696         183\n",
      "Thamnophis ordinoides         698         171\n",
      "Thamnophis proximus           699         151\n",
      "Thamnophis radix              701         159\n",
      "Trimeresurus stejnegeri       725         162\n",
      "Tropidoclonion lineatum       738         173\n",
      "Tropidolaemus subannulatus    740         178\n",
      "Tropidolaemus wagleri         741         191\n",
      "Vipera ammodytes              746         143\n",
      "Vipera aspis                  747         157\n",
      "Vipera seoanei                751         173\n",
      "Virginia valeriae             755         167\n",
      "Xenochrophis piscator         758         165\n",
      "dtype: int64\n"
     ]
    }
   ],
   "source": [
    "df = csv_train\n",
    "classesdf=df.groupby(['binomial', 'class_id']).size()\n",
    "pd.set_option('display.max_rows', classesdf.shape[0]+1)\n",
    "print(\"Species\".ljust(30)+\"class_id\".ljust(10)+\"No Of Images\")\n",
    "print(classesdf)\n",
    "pd.set_option('display.max_rows', 5)"
   ]
  },
  {
   "cell_type": "code",
   "execution_count": 6,
   "metadata": {},
   "outputs": [
    {
     "name": "stdout",
     "output_type": "stream",
     "text": [
      "Carphophis amoenus\n"
     ]
    }
   ],
   "source": [
    "species = df.loc[df['class_id'] == 110, 'binomial'].unique()\n",
    "print(species[0])"
   ]
  },
  {
   "cell_type": "code",
   "execution_count": 53,
   "metadata": {},
   "outputs": [],
   "source": [
    "classes= df[['binomial','class_id']].drop_duplicates()"
   ]
  },
  {
   "cell_type": "code",
   "execution_count": 64,
   "metadata": {},
   "outputs": [
    {
     "data": {
      "text/plain": [
       "array([18, 20, 25, 26, 39, 41, 48, 52, 54, 57, 60, 65, 71, 73, 83, 87, 88, 99, 110, 111, 113, 114, 122, 135, 140, 155, 158, 159, 162, 163, 165, 168, 169, 175, 177, 180, 185, 186, 188, 189, 191, 193,\n",
       "       195, 203, 215, 216, 220, 226, 238, 255, 263, 280, 284, 302, 315, 319, 321, 323, 335, 338, 345, 348, 352, 360, 363, 364, 368, 373, 381, 383, 384, 396, 422, 424, 427, 429, 430, 441, 448, 453,\n",
       "       454, 457, 462, 464, 470, 474, 477, 481, 485, 495, 497, 507, 515, 544, 545, 546, 560, 562, 575, 576, 578, 590, 603, 605, 609, 616, 617, 619, 623, 628, 629, 634, 651, 652, 656, 672, 674, 675,\n",
       "       678, 686, 690, 691, 696, 698, 699, 701, 725, 738, 740, 741, 746, 747, 751, 755, 758], dtype=object)"
      ]
     },
     "execution_count": 64,
     "metadata": {},
     "output_type": "execute_result"
    }
   ],
   "source": [
    "classes.to_numpy()[:,1]"
   ]
  },
  {
   "cell_type": "code",
   "execution_count": 66,
   "metadata": {},
   "outputs": [],
   "source": [
    "# saving the DataFrame as a CSV file\n",
    "classescsv = classes.to_csv('classes.csv', index = True)\n",
    "#print('\\nclasses:\\n', classescsv)"
   ]
  }
 ],
 "metadata": {
  "accelerator": "GPU",
  "colab": {
   "collapsed_sections": [],
   "name": "classification.ipynb",
   "toc_visible": true
  },
  "kernelspec": {
   "display_name": "Environment (conda_tensorflow2_p38)",
   "language": "python",
   "name": "conda_tensorflow2_p38"
  },
  "language_info": {
   "codemirror_mode": {
    "name": "ipython",
    "version": 3
   },
   "file_extension": ".py",
   "mimetype": "text/x-python",
   "name": "python",
   "nbconvert_exporter": "python",
   "pygments_lexer": "ipython3",
   "version": "3.8.12"
  }
 },
 "nbformat": 4,
 "nbformat_minor": 4
}
